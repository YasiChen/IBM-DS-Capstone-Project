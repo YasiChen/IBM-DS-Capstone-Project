{
 "cells": [
  {
   "cell_type": "markdown",
   "metadata": {},
   "source": [
    "# 1. A description of the problem and a discussion of the background. "
   ]
  },
  {
   "cell_type": "markdown",
   "metadata": {},
   "source": [
    "### Coffee shop location recommendation"
   ]
  },
  {
   "cell_type": "markdown",
   "metadata": {},
   "source": [
    "In Toronto, if someone is looking to open a coffee shop, where would you recommend that they open it? As a business analyst, I would suggest business owners to do a more thorough research on the economic and demographic informations, as well as the competition between the similar category of venues.\n",
    "Toronto ranks the fourth best city for Generation Z according to a new study by rental platform Nestpick in 2019, following London, Stockholm and Los Angeles. Opening a coffe shop in Toronto is not an easy task when it comes to picking the location. You have to consider the cost of running a shop, who are your customers, what's around that neighbourhood.\n",
    "\n",
    "\n"
   ]
  },
  {
   "cell_type": "markdown",
   "metadata": {},
   "source": [
    "# 2. A description of the data and how it will be used to solve the problem. "
   ]
  },
  {
   "cell_type": "markdown",
   "metadata": {},
   "source": [
    "Based on what we have in the last project, we've got the venues name, category, numbers in each category. Furthermore, we want to get the venues rating/comments from the foursquare dataset, to analyze quantity and quality of the venues, to be more specific, the coffee shops and resturants. Given the data, we can cluster the neighbourhoods to identify the similarity within each cluster and the difference between each cluster. Identify the niche of entering the market based on the features of the neighbourhood. If there're not much coffee shop in the neighbourhood like the center of the city, in which the housing prices are high, it might be a chance for the business owener to start a coffee business. But if the in certain cluster, the rating of coffee shop is low, it might also identify a chance to improve the product quality and open an high-ended coffee business."
   ]
  },
  {
   "cell_type": "code",
   "execution_count": null,
   "metadata": {},
   "outputs": [],
   "source": []
  }
 ],
 "metadata": {
  "kernelspec": {
   "display_name": "Python 3",
   "language": "python",
   "name": "python3"
  },
  "language_info": {
   "codemirror_mode": {
    "name": "ipython",
    "version": 3
   },
   "file_extension": ".py",
   "mimetype": "text/x-python",
   "name": "python",
   "nbconvert_exporter": "python",
   "pygments_lexer": "ipython3",
   "version": "3.7.3"
  }
 },
 "nbformat": 4,
 "nbformat_minor": 2
}
